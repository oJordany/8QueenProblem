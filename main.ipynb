{
 "cells": [
  {
   "cell_type": "code",
   "execution_count": 52,
   "metadata": {},
   "outputs": [],
   "source": [
    "import math\n",
    "import random\n",
    "import copy\n",
    "import time\n",
    "import numpy as np\n",
    "import matplotlib.pyplot as plt\n"
   ]
  },
  {
   "cell_type": "markdown",
   "metadata": {},
   "source": [
    "# Função para obter a representação computacional do tabuleiro aleatoriamente"
   ]
  },
  {
   "cell_type": "code",
   "execution_count": 53,
   "metadata": {},
   "outputs": [],
   "source": [
    "def getRandomBoard(dimension:int):\n",
    "    \"\"\"Retorna um array que representa o tabuleiro (dimension x dimension) no qual cada coluna tem uma rainha posicionada.\n",
    "\n",
    "    Representação Array 8x8: [2, 0, 4, 1, 6, 7, 3, 5] \n",
    "\n",
    "    Representação tabuleiro:\n",
    "\n",
    "      0 . R . . . . . .\n",
    "      1 . . . R . . . .\n",
    "      2 R . . . . . . .\n",
    "      3 . . . . . . R .\n",
    "      4 . . R . . . . .\n",
    "      5 . . . . . . . R\n",
    "      6 . . . . R . . .\n",
    "      7 . . . . . R . .\n",
    "        0 1 2 3 4 5 6 7\n",
    "    \"\"\"\n",
    "    board = [random.randint(0, 7) for _ in range(8)]\n",
    "    # board = random.sample(range(0, dimension), k=dimension)\n",
    "    return board\n",
    "    "
   ]
  },
  {
   "cell_type": "markdown",
   "metadata": {},
   "source": [
    "# Classe para definir o estado do tabuleiro"
   ]
  },
  {
   "cell_type": "code",
   "execution_count": 54,
   "metadata": {},
   "outputs": [],
   "source": [
    "class BoardState:\n",
    "    \"\"\" Define o estado. Cada coluna tem apenas uma rainha em cada estado.\"\"\"\n",
    "\n",
    "    def __init__(self, board:list) -> None:\n",
    "        self.board = board\n",
    "        self.dimension = len(self.board)\n",
    "        self.horizontalConflictDict = {}\n",
    "        self.mainDiagonalsConflictDict = {}\n",
    "        self.secondaryDiagonalsConflictDict = {}\n",
    "        self.heuristic = 0\n",
    "        self.setConflictDictionaries()\n",
    "        self.setHeuristic()\n",
    "    \n",
    "    \n",
    "    def setConflictDictionaries(self) -> None:\n",
    "        \"\"\"Define 3 dicionários, que representam o número de rainhas:\n",
    "            em cada linha -> horizontalConflictDict; \n",
    "            cada diagonal principal -> mainDiagonalsConflictDict;\n",
    "            e cada diagonal secundária -> secondaryDiagonalsConflictDict\n",
    "        Ex.: secondaryDiagonalsConflictDict[i] = k indica que existem k rainhas na i-ésima linha\n",
    "        Obs.: \n",
    "            Diagonais Principais: a diferença entre os índices das linhas e das colunas é sempre igual na mesma diagonal\n",
    "            Diagonais secundárias: a soma dos índices das linhas e das colunas é sempre igual na mesma diagonal\n",
    "        \"\"\"\n",
    "        for j, i in enumerate(self.board):\n",
    "                self.horizontalConflictDict[i] = self.horizontalConflictDict[i] + 1 if i in self.horizontalConflictDict else 1\n",
    "                self.mainDiagonalsConflictDict[i-j] =  self.mainDiagonalsConflictDict[i-j] + 1 if i-j in self.mainDiagonalsConflictDict else 1\n",
    "                self.secondaryDiagonalsConflictDict[i+j] =  self.secondaryDiagonalsConflictDict[i+j] + 1 if i+j in self.secondaryDiagonalsConflictDict else 1\n",
    "\n",
    "\n",
    "    def setHeuristic(self) -> None:\n",
    "        \"\"\"Define a heurística de um estado. Essa heurística é o número de pares de rainhas que estão atacando uma a outra (Combinaçào de n elementos tomados 2 a 2)\"\"\"\n",
    "        for boardLineIndex in self.horizontalConflictDict:\n",
    "             if self.horizontalConflictDict[boardLineIndex] > 1:\n",
    "                  self.heuristic += math.comb(self.horizontalConflictDict[boardLineIndex], 2)\n",
    "\n",
    "        for boardMainDiagonalIndex in self.mainDiagonalsConflictDict:\n",
    "             if self.mainDiagonalsConflictDict[boardMainDiagonalIndex] > 1:\n",
    "                  self.heuristic += math.comb(self.mainDiagonalsConflictDict[boardMainDiagonalIndex], 2)\n",
    "\n",
    "        for boardSecondaryDiagonalIndex in self.secondaryDiagonalsConflictDict:\n",
    "             if self.secondaryDiagonalsConflictDict[boardSecondaryDiagonalIndex] > 1:\n",
    "                  self.heuristic += math.comb(self.secondaryDiagonalsConflictDict[boardSecondaryDiagonalIndex], 2)\n",
    "\n",
    "\n",
    "    def getRandomSuccessor(self) -> 'BoardState':\n",
    "        \"\"\"retorna um sucessor aleatório do estado atual\"\"\"\n",
    "        j = random.randrange(0, self.dimension)\n",
    "        possiblePositions = [i for i in range(self.dimension) if i != self.board[j]]\n",
    "        i = random.choice(possiblePositions)\n",
    "\n",
    "        newBoard = copy.deepcopy(self.board)\n",
    "        newBoard[j] = i\n",
    "        return BoardState(newBoard)\n",
    "    "
   ]
  },
  {
   "cell_type": "markdown",
   "metadata": {},
   "source": [
    "# Função que executa o Simulated Annealing baseado no estado inicial do tabuleiro"
   ]
  },
  {
   "cell_type": "code",
   "execution_count": 55,
   "metadata": {},
   "outputs": [],
   "source": [
    "def runSimulatedAnnealing(boardState: BoardState, temperature:int=90000, temperatureDecay:int=0.8, maxNumImprovement:int=500) -> tuple:\n",
    "    \"\"\"Obtém o estado inicial do tabuleiro e executa o algoritmo Simulated Annealling\"\"\"\n",
    "    currentState = BoardState(boardState)\n",
    "    numImprovementCount = 0\n",
    "    # print(\"Iniciando Simulated Annealing\")\n",
    "    # print(\"Estado atual do tabuleiro:\")\n",
    "    # print(currentState.board)\n",
    "    # print(f\"Heurística do estado atual: {currentState.heuristic}\")\n",
    "    # print(f\"{'='*50}\")\n",
    "    NIterations= 0\n",
    "    while True:\n",
    "        NIterations+=1\n",
    "        temperature *= temperatureDecay\n",
    "        if temperature < 1 or numImprovementCount >= maxNumImprovement:\n",
    "            # print(\"Estado final do tabuleiro: \")\n",
    "            # print(currentState.board)\n",
    "            # print(f\"Heurística do estado final: {currentState.heuristic}\")\n",
    "            # print(f\"temperatura: {temperature}\")\n",
    "            # print(f\"contador de melhorias: {numImprovementCount}\")\n",
    "            if currentState.heuristic == 0:\n",
    "                # print(\"\\n\\033[1;32mO Simulated Annealing encontrou a solução ótima global\\033[m\")\n",
    "                return True, currentState,NIterations\n",
    "            else:\n",
    "                # print(\"\\n\\033[1;31mO Simulated Annealing não conseguiu encontrar a solução ótima global\\033[m\")\n",
    "                return False, currentState,NIterations\n",
    "            \n",
    "        nextState = currentState.getRandomSuccessor()\n",
    "        deltaE = nextState.heuristic - currentState.heuristic\n",
    "        if deltaE < 0: #minimização\n",
    "            # print(\"Movimentação realizada:\")\n",
    "            # print(f\"{currentState.board} ---> {nextState.board}\")\n",
    "            # print(\"Estado atual do tabuleiro:\")\n",
    "            # print(currentState.board)\n",
    "            # print(f\"Heurística do estado atual: {currentState.heuristic}\")\n",
    "            # print(f\"{'='*50}\")\n",
    "            currentState = nextState\n",
    "            numImprovementCount = 0\n",
    "        else:\n",
    "            randomDecision = random.uniform(0, 1)\n",
    "            probability = math.exp(deltaE/temperature)\n",
    "            if randomDecision >= probability:\n",
    "                # print(\"Movimentação realizada:\")\n",
    "                # print(f\"{currentState.board} ---> {nextState.board}\")\n",
    "                # print(\"Estado atual do tabuleiro:\")\n",
    "                # print(currentState.board)\n",
    "                # print(f\"Heurística do estado atual: {currentState.heuristic}\")\n",
    "                # print(f\"{'='*50}\")\n",
    "                currentState = nextState\n",
    "                numImprovementCount = 0 # reseta o contador se a mudança for aceita\n",
    "            else:\n",
    "                numImprovementCount += 1 # incrementa o contador se não houver melhoria"
   ]
  },
  {
   "cell_type": "markdown",
   "metadata": {},
   "source": [
    "# Execução"
   ]
  },
  {
   "cell_type": "code",
   "execution_count": 56,
   "metadata": {},
   "outputs": [
    {
     "name": "stdout",
     "output_type": "stream",
     "text": [
      "\u001b[0;39mAchou solução ótima? False\n",
      "Estado final do tabuleiro: [5, 1, 4, 0, 2, 6, 7, 3]\n",
      "Heurística final: 2\n",
      "Número de Iterações 52\n"
     ]
    }
   ],
   "source": [
    "randomBoard = getRandomBoard(dimension=8)\n",
    "solution = runSimulatedAnnealing(boardState=randomBoard)\n",
    "print(f\"\\033[0;39mAchou solução ótima? {solution[0]}\")\n",
    "print(f\"Estado final do tabuleiro: {solution[1].board}\")\n",
    "print(f\"Heurística final: {solution[1].heuristic}\")\n",
    "print(f\"Número de Iterações {solution[2]}\")\n",
    "\n"
   ]
  },
  {
   "cell_type": "markdown",
   "metadata": {},
   "source": [
    "# Exercício"
   ]
  },
  {
   "cell_type": "markdown",
   "metadata": {},
   "source": [
    "#### Execute o algoritmo 50 vezes e calcule: média e desvio padrão do número mínimo de iterações necessário para parar o algoritmo; média e desvio padrão do tempo de execução do algoritmo"
   ]
  },
  {
   "cell_type": "code",
   "execution_count": 60,
   "metadata": {},
   "outputs": [
    {
     "name": "stdout",
     "output_type": "stream",
     "text": [
      "Média de iterações: 52.0\n",
      "Desvio padrão de iterações: 0.0\n",
      "Média de tempo de execução: 0.001033562000375241 segundos\n",
      "Desvio padrão de tempo de execução: 0.00039809661263600005 segundos\n",
      "Melhores 5 soluções\n",
      "\n",
      "1°: \n",
      "\n",
      "\u001b[0;39mAchou solução ótima? True\n",
      "Estado final do tabuleiro: [3, 7, 4, 2, 0, 6, 1, 5]\n",
      "Heurística final: 0\n",
      "Número de Iterações 52\n"
     ]
    }
   ],
   "source": [
    "# Listas \n",
    "iterationsList = []\n",
    "time_execList = []\n",
    "bestsList = []\n",
    "\n",
    "# Executar o algoritmo 50 vezes\n",
    "for _ in range(50):\n",
    "    \n",
    "    start = time.perf_counter()  # Início da contagem do tempo\n",
    "    \n",
    "    ##execução \n",
    "    randomBoard = getRandomBoard(dimension=8)\n",
    "    solution = runSimulatedAnnealing(boardState=randomBoard)\n",
    "    end = time.perf_counter()  # Fim da contagem do tempo\n",
    "    nIterations= solution[2]\n",
    "    if solution[0]:\n",
    "        bestsList.append(solution)\n",
    "    # Calcula o tempo de execução e armazena os resultados\n",
    "    tExec= end - start\n",
    "    iterationsList.append(nIterations)\n",
    "    time_execList.append(tExec)\n",
    "\n",
    "\n",
    "# Cálculo da média e desvio padrão\n",
    "media_iteracoes = np.mean(iterationsList)\n",
    "desvio_padrao_iteracoes = np.std(iterationsList)\n",
    "\n",
    "media_tempo = np.mean(time_execList)\n",
    "desvio_padrao_tempo = np.std(time_execList)\n",
    "\n",
    "# Exibir resultados\n",
    "print(f\"Média de iterações: {media_iteracoes}\")\n",
    "print(f\"Desvio padrão de iterações: {desvio_padrao_iteracoes}\")\n",
    "print(f\"Média de tempo de execução: {media_tempo} segundos\")\n",
    "print(f\"Desvio padrão de tempo de execução: {desvio_padrao_tempo} segundos\")\n",
    "\n",
    "print(f\"Melhores 5 soluções\")\n",
    "if len(bestsList) > 0:\n",
    "    for i,solution in enumerate(bestsList):\n",
    "        print(f\"\\n{i+1}°: \\n\")\n",
    "        print(f\"\\033[0;39mAchou solução ótima? {solution[0]}\")\n",
    "        print(f\"Estado final do tabuleiro: {solution[1].board}\")\n",
    "        print(f\"Heurística final: {solution[1].heuristic}\")\n",
    "        print(f\"Número de Iterações {solution[2]}\")"
   ]
  },
  {
   "cell_type": "markdown",
   "metadata": {},
   "source": [
    "## Gráfico - Tempo de execução e iterações por execução"
   ]
  },
  {
   "cell_type": "code",
   "execution_count": 61,
   "metadata": {},
   "outputs": [
    {
     "data": {
      "image/png": "[encoded data removed]",
      "text/plain": [
       "<Figure size 640x480 with 2 Axes>"
      ]
     },
     "metadata": {},
     "output_type": "display_data"
    }
   ],
   "source": [
    "# Gráfico mostrando número de iterações por execução e tempo de execução\n",
    "\n",
    "executions = np.arange(1, 51)  # Eixo x, de 1 a 50\n",
    "\n",
    "fig, ax1 = plt.subplots()\n",
    "\n",
    "# Gráfico de número de iterações (à esquerda)\n",
    "ax1.set_xlabel('Execução')\n",
    "ax1.set_ylabel('Número de Iterações', color='tab:blue')\n",
    "ax1.plot(executions, iterationsList, color='tab:blue', label='Iterações')\n",
    "ax1.tick_params(axis='y', labelcolor='tab:blue')\n",
    "\n",
    "# Criar um segundo eixo y que compartilha o mesmo eixo x\n",
    "ax2 = ax1.twinx()\n",
    "ax2.set_ylabel('Tempo de Execução (segundos)', color='tab:red')\n",
    "ax2.plot(executions, time_execList , color='tab:red', label='Tempo de Execução')\n",
    "ax2.tick_params(axis='y', labelcolor='tab:red')\n",
    "\n",
    "# Título do gráfico\n",
    "plt.title('Número de Iterações e Tempo de Execução por Execução')\n",
    "\n",
    "# Exibir gráfico\n",
    "fig.tight_layout()  # Para ajustar bem o layout\n",
    "plt.show()"
   ]
  },
  {
   "cell_type": "markdown",
   "metadata": {},
   "source": [
    "## Código alterado pra armazenar os 5 melhores resultados"
   ]
  },
  {
   "cell_type": "code",
   "execution_count": 63,
   "metadata": {},
   "outputs": [
    {
     "name": "stdout",
     "output_type": "stream",
     "text": [
      "Média de iterações: 52.0\n",
      "Desvio padrão de iterações: 0.0\n",
      "Média de tempo de execução: 0.001753730578675158 segundos\n",
      "Desvio padrão de tempo de execução: 0.0018916411608579894 segundos\n",
      "\n",
      " -=-=-=-Melhores 5 soluções -=-=-=-=\n",
      "\n",
      "1°: \n",
      "\n",
      "\u001b[0;39mAchou solução ótima? True\n",
      "Estado final do tabuleiro: [3, 1, 6, 4, 0, 7, 5, 2]\n",
      "Heurística final: 0\n",
      "Número de Iterações 52\n",
      "\n",
      "2°: \n",
      "\n",
      "\u001b[0;39mAchou solução ótima? True\n",
      "Estado final do tabuleiro: [4, 0, 7, 5, 2, 6, 1, 3]\n",
      "Heurística final: 0\n",
      "Número de Iterações 52\n",
      "\n",
      "3°: \n",
      "\n",
      "\u001b[0;39mAchou solução ótima? True\n",
      "Estado final do tabuleiro: [4, 2, 7, 3, 6, 0, 5, 1]\n",
      "Heurística final: 0\n",
      "Número de Iterações 52\n",
      "\n",
      "4°: \n",
      "\n",
      "\u001b[0;39mAchou solução ótima? True\n",
      "Estado final do tabuleiro: [3, 6, 2, 7, 1, 4, 0, 5]\n",
      "Heurística final: 0\n",
      "Número de Iterações 52\n",
      "\n",
      "5°: \n",
      "\n",
      "\u001b[0;39mAchou solução ótima? True\n",
      "Estado final do tabuleiro: [3, 1, 6, 2, 5, 7, 4, 0]\n",
      "Heurística final: 0\n",
      "Número de Iterações 52\n",
      "\n",
      " Número de iterações da execução do algoritmo: 168\n"
     ]
    }
   ],
   "source": [
    "\n",
    "# Listas  \n",
    "iterationsList = []\n",
    "time_execListList = []\n",
    "bestsList = []\n",
    "nItAlg= 0 # número de iterações pra achar as 5 melhores \n",
    "# Executar o algoritmo 50 vezes\n",
    "while len(bestsList)<5:\n",
    "    nItAlg+=1\n",
    "    begin = time.perf_counter()  # Início da contagem do tempo\n",
    "    \n",
    "    ##execução \n",
    "    randomBoard = getRandomBoard(dimension=8)\n",
    "    solution = runSimulatedAnnealing(boardState=randomBoard)\n",
    "    end = time.perf_counter()  # Fim da contagem do tempo\n",
    "    nIterations= solution[2]\n",
    "    if solution[0]:\n",
    "        bestsList.append(solution)\n",
    "    # Calcula o tempo de execução e armazena os resultados\n",
    "    t_execucao= end - begin\n",
    "    iterationsList.append(nIterations)\n",
    "    time_execList.append(t_execucao)\n",
    "\n",
    "\n",
    "# Cálculo da média e desvio padrão\n",
    "media_iteracoes = np.mean(iterationsList)\n",
    "desvio_padrao_iteracoes = np.std(iterationsList)\n",
    "\n",
    "media_tempo = np.mean(time_execList)\n",
    "desvio_padrao_tempo = np.std(time_execList)\n",
    "\n",
    "# Exibir resultados\n",
    "print(f\"Média de iterações: {media_iteracoes}\")\n",
    "print(f\"Desvio padrão de iterações: {desvio_padrao_iteracoes}\")\n",
    "print(f\"Média de tempo de execução: {media_tempo} segundos\")\n",
    "print(f\"Desvio padrão de tempo de execução: {desvio_padrao_tempo} segundos\")\n",
    "\n",
    "print(f\"\\n -=-=-=-Melhores 5 soluções -=-=-=-=\")\n",
    "for i,solution in enumerate(bestsList):\n",
    "    print(f\"\\n{i+1}°: \\n\")\n",
    "    print(f\"\\033[0;39mAchou solução ótima? {solution[0]}\")\n",
    "    print(f\"Estado final do tabuleiro: {solution[1].board}\")\n",
    "    print(f\"Heurística final: {solution[1].heuristic}\")\n",
    "    print(f\"Número de Iterações {solution[2]}\")\n",
    "\n",
    "print(f\"\\n Número de iterações da execução do algoritmo: {nItAlg}\")"
   ]
  }
 ],
 "metadata": {
  "kernelspec": {
   "display_name": "Python 3 (ipykernel)",
   "language": "python",
   "name": "python3"
  },
  "language_info": {
   "codemirror_mode": {
    "name": "ipython",
    "version": 3
   },
   "file_extension": ".py",
   "mimetype": "text/x-python",
   "name": "python",
   "nbconvert_exporter": "python",
   "pygments_lexer": "ipython3",
   "version": "3.11.1"
  }
 },
 "nbformat": 4,
 "nbformat_minor": 4
}
