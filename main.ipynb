{
 "cells": [
  {
   "cell_type": "code",
   "execution_count": 2,
   "metadata": {},
   "outputs": [],
   "source": [
    "import math\n",
    "import random"
   ]
  },
  {
   "cell_type": "markdown",
   "metadata": {},
   "source": [
    "# Função para obter a representação computacional do tabuleiro aleatoriamente"
   ]
  },
  {
   "cell_type": "code",
   "execution_count": 13,
   "metadata": {},
   "outputs": [],
   "source": [
    "def getRandomBoard(dimension:int):\n",
    "    \"\"\"Retorna um array que representa o tabuleiro (dimension x dimension) no qual cada coluna tem uma rainha posicionada.\n",
    "\n",
    "    Representação Array 8x8: [2, 0, 4, 1, 6, 7, 3, 5] \n",
    "\n",
    "    Representação tabuleiro:     0 1 2 3 4 5 6 7 \n",
    "                               0 . R . . . . . .\n",
    "                               1 . . . R . . . .\n",
    "                               2 R . . . . . . .\n",
    "                               3 . . . . . . R .\n",
    "                               4 . . R . . . . .\n",
    "                               5 . . . . . . . R\n",
    "                               6 . . . . R . . .\n",
    "                               7 . . . . . R . .\n",
    "    \"\"\"\n",
    "    board = [random.randint(0, 7) for _ in range(8)]\n",
    "    return board\n",
    "    "
   ]
  },
  {
   "cell_type": "code",
   "execution_count": 17,
   "metadata": {},
   "outputs": [
    {
     "name": "stdout",
     "output_type": "stream",
     "text": [
      "[2, 7, 5, 0, 7, 0, 5, 5]\n",
      "horizontal: 5\n",
      "diagPrincip: 6\n",
      "diagSecundar: 7\n",
      "7\n",
      "horizontal: 3\n",
      "diagPrincip: 4\n",
      "diagSecundar: 6\n",
      "[2, 7, 5, 0, 7, 0, 5, 1]\n",
      "6\n"
     ]
    }
   ],
   "source": [
    "import copy\n",
    "\n",
    "\n",
    "class BoardState:\n",
    "    \"\"\" Define o estado. Cada coluna tem apenas uma rainha em cada estado.\"\"\"\n",
    "\n",
    "    def __init__(self, board:list) -> None:\n",
    "        self.board = board\n",
    "        self.dimension = len(self.board)\n",
    "        self.horizontalConflictDict = {}\n",
    "        self.mainDiagonalsConflictDict = {}\n",
    "        self.secondaryDiagonalsConflictDict = {}\n",
    "        self.heuristic = 0\n",
    "        self.setConflictDictionaries()\n",
    "        self.setHeuristic()\n",
    "    \n",
    "    def setConflictDictionaries(self):\n",
    "        \"\"\"Define 3 dicionários, que representam o número de rainhas:\n",
    "            em cada linha -> horizontalConflictDict; \n",
    "            cada diagonal principal -> mainDiagonalsConflictDict;\n",
    "            e cada diagonal secundária -> secondaryDiagonalsConflictDict\n",
    "        Ex.: secondaryDiagonalsConflictDict[i] = k indica que existem k rainhas na i-ésima linha\n",
    "        Obs.: \n",
    "            Diagonais Principais: a diferença entre os índices das linhas e das colunas é sempre igual na mesma diagonal\n",
    "            Diagonais secundárias: a soma dos índices das linhas e das colunas é sempre igual na mesma diagonal\n",
    "        \"\"\"\n",
    "        for j, i in enumerate(self.board):\n",
    "                self.horizontalConflictDict[i] = self.horizontalConflictDict[i] + 1 if i in self.horizontalConflictDict else 1\n",
    "                self.mainDiagonalsConflictDict[i-j] =  self.mainDiagonalsConflictDict[i-j] + 1 if i-j in self.mainDiagonalsConflictDict else 1\n",
    "                self.secondaryDiagonalsConflictDict[i+j] =  self.secondaryDiagonalsConflictDict[i+j] + 1 if i+j in self.secondaryDiagonalsConflictDict else 1\n",
    "\n",
    "    def setHeuristic(self):\n",
    "        \"\"\"Define a heurística de um estado. Essa heurística é o número de pares de rainhas que estão atacando uma a outra (Combinaçào de n elementos tomados 2 a 2)\"\"\"\n",
    "        for boardLineIndex in self.horizontalConflictDict:\n",
    "             if self.horizontalConflictDict[boardLineIndex] > 1:\n",
    "                  self.heuristic += math.comb(self.horizontalConflictDict[boardLineIndex], 2)\n",
    "        print(f'horizontal: {self.heuristic}')\n",
    "\n",
    "        for boardMainDiagonalIndex in self.mainDiagonalsConflictDict:\n",
    "             if self.mainDiagonalsConflictDict[boardMainDiagonalIndex] > 1:\n",
    "                  self.heuristic += math.comb(self.mainDiagonalsConflictDict[boardMainDiagonalIndex], 2)\n",
    "\n",
    "        print(f'diagPrincip: {self.heuristic}')\n",
    "\n",
    "        for boardSecondaryDiagonalIndex in self.secondaryDiagonalsConflictDict:\n",
    "             if self.secondaryDiagonalsConflictDict[boardSecondaryDiagonalIndex] > 1:\n",
    "                  self.heuristic += math.comb(self.secondaryDiagonalsConflictDict[boardSecondaryDiagonalIndex], 2)\n",
    "\n",
    "        print(f'diagSecundar: {self.heuristic}')\n",
    "    \n",
    "    def randomSuccessor(self) -> 'BoardState':\n",
    "         \"\"\"retorna um sucessor aleatório do estado atual\"\"\"\n",
    "         j = random.randrange(0, self.dimension)\n",
    "         possiblePositions = [i for i in range(self.dimension) if i != self.board[j]]\n",
    "         i = random.choice(possiblePositions)\n",
    "\n",
    "         newBoard = copy.deepcopy(self.board)\n",
    "         newBoard[j] = i\n",
    "         return BoardState(newBoard)\n",
    "    \n",
    "    \n",
    "            \n",
    "         \n",
    "\n",
    "# randomBoard = getRandomBoard(8)\n",
    "print([2, 7, 5, 0, 7, 0, 5, 5])\n",
    "boardState = BoardState([2, 7, 5, 0, 7, 0, 5, 5])\n",
    "print(boardState.heuristic)\n",
    "newBoardState = boardState.randomSuccessor()\n",
    "print(newBoardState.board)\n",
    "print(newBoardState.heuristic)"
   ]
  },
  {
   "cell_type": "code",
   "execution_count": 10,
   "metadata": {},
   "outputs": [
    {
     "name": "stdout",
     "output_type": "stream",
     "text": [
      "{-6: 0}\n"
     ]
    }
   ],
   "source": []
  }
 ],
 "metadata": {
  "kernelspec": {
   "display_name": "Python 3",
   "language": "python",
   "name": "python3"
  },
  "language_info": {
   "codemirror_mode": {
    "name": "ipython",
    "version": 3
   },
   "file_extension": ".py",
   "mimetype": "text/x-python",
   "name": "python",
   "nbconvert_exporter": "python",
   "pygments_lexer": "ipython3",
   "version": "3.12.3"
  }
 },
 "nbformat": 4,
 "nbformat_minor": 2
}
